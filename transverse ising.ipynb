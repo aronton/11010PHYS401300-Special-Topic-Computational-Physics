{
 "cells": [
  {
   "cell_type": "markdown",
   "metadata": {},
   "source": [
    "## Import"
   ]
  },
  {
   "cell_type": "code",
   "execution_count": 1,
   "metadata": {},
   "outputs": [],
   "source": [
    "import os\n",
    "import math\n",
    "import pandas as pd\n",
    "import random\n",
    "import numpy as np\n",
    "import numpy.linalg as la\n",
    "import matplotlib.pyplot as plt\n",
    "from scipy.optimize import curve_fit"
   ]
  },
  {
   "cell_type": "code",
   "execution_count": 2,
   "metadata": {},
   "outputs": [],
   "source": [
    "## Basic parameter\n",
    "cnames = {                        \n",
    "'blueviolet':           '#8A2BE2',\n",
    "'brown':                '#A52A2A',\n",
    "'burlywood':            '#DEB887',\n",
    "'cadetblue':            '#5F9EA0',\n",
    "'chocolate':            '#D2691E',\n",
    "'crimson':              '#DC143C',\n",
    "'cyan':                 '#00FFFF',\n",
    "'darkblue':             '#00008B',\n",
    "'darkcyan':             '#008B8B',\n",
    "'darkolivegreen':       '#556B2F',\n",
    "'darkorange':           '#FF8C00',\n",
    "'darksalmon':           '#E9967A',\n",
    "'darkseagreen':         '#8FBC8F',\n",
    "'darkslateblue':        '#483D8B',\n",
    "'darkslategray':        '#2F4F4F',\n",
    "'darkturquoise':        '#00CED1',\n",
    "'darkviolet':           '#9400D3',\n",
    "'deeppink':             '#FF1493',\n",
    "'deepskyblue':          '#00BFFF',\n",
    "'dimgray':              '#696969',\n",
    "'dodgerblue':           '#1E90FF',\n",
    "'firebrick':            '#B22222',\n",
    "'floralwhite':          '#FFFAF0',\n",
    "'forestgreen':          '#228B22',\n",
    "'fuchsia':              '#FF00FF',\n",
    "'gainsboro':            '#DCDCDC',\n",
    "'ghostwhite':           '#F8F8FF',\n",
    "'gold':                 '#FFD700',\n",
    "'greenyellow':          '#ADFF2F',\n",
    "'honeydew':             '#F0FFF0',\n",
    "'hotpink':              '#FF69B4',\n",
    "'indianred':            '#CD5C5C',\n",
    "'indigo':               '#4B0082',\n",
    "'ivory':                '#FFFFF0',\n",
    "'khaki':                '#F0E68C',\n",
    "'orangered':            '#FF4500',\n",
    "'orchid':               '#DA70D6'}\n",
    "carr = []\n",
    "for cmap in cnames.keys():                          ## color array\n",
    "    carr.append(cmap)\n",
    "marr = ['o-', 'x-', '^-', 's-', 'p-', '*-', 'h-']   ## marker array"
   ]
  },
  {
   "cell_type": "markdown",
   "metadata": {},
   "source": [
    "## Pauli matrix"
   ]
  },
  {
   "cell_type": "code",
   "execution_count": 3,
   "metadata": {},
   "outputs": [],
   "source": [
    "j = 1\n",
    "h = 0.5\n",
    "hbar = 1\n",
    "SigmaX = np.array([[0,1],[1,0]])\n",
    "SigmaY = np.array([[0,-1j],[1j,0]])\n",
    "SigmaZ = np.array([[1,0],[0,-1]])\n",
    "Sx = hbar/2*SigmaX\n",
    "Sy = hbar/2*SigmaY\n",
    "Sz = hbar/2*SigmaZ\n",
    "I = np.array([[1,0],[0,1]])\n",
    "#Htot = np.zeros((2**L,2**L))\n",
    "#Sxtot = np.zeros((2**L,2**L))\n",
    "#Sytot = np.zeros((2**L,2**L))\n",
    "#Sztot = np.zeros((2**L,2**L))\n",
    "\n",
    "#SzList = []\n",
    "#SyList = []\n",
    "#SxList = []\n"
   ]
  },
  {
   "cell_type": "markdown",
   "metadata": {},
   "source": [
    "## One Site"
   ]
  },
  {
   "cell_type": "code",
   "execution_count": 4,
   "metadata": {},
   "outputs": [
    {
     "name": "stdout",
     "output_type": "stream",
     "text": [
      "[0. 0.]\n",
      "-0.4999999999999999\n"
     ]
    }
   ],
   "source": [
    "E,V = la.eigh(Sx)\n",
    "print(Sx @ V[0] -E[0]*V[0])\n",
    "print(V[0] @ Sx @ V[0])"
   ]
  },
  {
   "cell_type": "markdown",
   "metadata": {},
   "source": [
    "### Four Sites"
   ]
  },
  {
   "cell_type": "code",
   "execution_count": 4,
   "metadata": {},
   "outputs": [],
   "source": [
    "def Hamiltonain(L,Sx,Sy,Sz,I,j,h):\n",
    "    global Sxtot\n",
    "    global Sytot\n",
    "    global Sztot\n",
    "    global SxList\n",
    "    global SyList \n",
    "    global SzList  \n",
    "    global Htot \n",
    "\n",
    "    Sxtot = np.zeros((2**L, 2**L))\n",
    "    Sytot = np.zeros((2**L, 2**L))\n",
    "    Sztot = np.zeros((2**L, 2**L))\n",
    "    Htot = np.zeros((2**L, 2**L))\n",
    "    SxList = []\n",
    "    SyList = []\n",
    "    SzList = []\n",
    "\n",
    "    for k in range(L):\n",
    "        x = Sx\n",
    "        y = Sy\n",
    "        z = Sz\n",
    "        if(k == 0):\n",
    "            for i in range(L-1):\n",
    "                x = np.kron(x,I)\n",
    "                y = np.kron(y,I)\n",
    "                z = np.kron(z,I)\n",
    "            SxList.append(x)\n",
    "            SyList.append(y)\n",
    "            SzList.append(z)\n",
    "        elif(k == L-1):\n",
    "            for i in range(L-1):\n",
    "                x = np.kron(I,x)\n",
    "                y = np.kron(I,y)\n",
    "                z = np.kron(I,z)\n",
    "            SxList.append(x)\n",
    "            SyList.append(y)\n",
    "            SzList.append(z)\n",
    "        else:\n",
    "            for i in range(k):\n",
    "                x = np.kron(I,x)\n",
    "                y = np.kron(I,y)\n",
    "                z = np.kron(I,z)\n",
    "            for i in range(k, L-1):\n",
    "                x = np.kron(x,I)\n",
    "                y = np.kron(y,I)\n",
    "                z = np.kron(z,I)\n",
    "            SxList.append(x)\n",
    "            SyList.append(y)\n",
    "            SzList.append(z)\n",
    "\n",
    "    for i in range(L):\n",
    "        if i < L-1:\n",
    "            Htot = Htot - j*SxList[i] @ SxList[i+1] - h*SzList[i]\n",
    "        else:\n",
    "            Htot = Htot - j*SxList[i] @ SxList[0] - h*SzList[i]\n",
    "\n",
    "    for i in range(L):\n",
    "        Sxtot = Sxtot + SxList[i]\n",
    "        Sytot = Sytot + SyList[i]\n",
    "        Sztot = Sztot + SzList[i]\n",
    "   "
   ]
  },
  {
   "cell_type": "code",
   "execution_count": 10,
   "metadata": {},
   "outputs": [
    {
     "name": "stdout",
     "output_type": "stream",
     "text": [
      "[[0.  0.5 0.  0.  0.  0.  0.  0.  0.  0.  0.  0.  0.  0.  0.  0. ]\n",
      " [0.5 0.  0.  0.  0.  0.  0.  0.  0.  0.  0.  0.  0.  0.  0.  0. ]\n",
      " [0.  0.  0.  0.5 0.  0.  0.  0.  0.  0.  0.  0.  0.  0.  0.  0. ]\n",
      " [0.  0.  0.5 0.  0.  0.  0.  0.  0.  0.  0.  0.  0.  0.  0.  0. ]\n",
      " [0.  0.  0.  0.  0.  0.5 0.  0.  0.  0.  0.  0.  0.  0.  0.  0. ]\n",
      " [0.  0.  0.  0.  0.5 0.  0.  0.  0.  0.  0.  0.  0.  0.  0.  0. ]\n",
      " [0.  0.  0.  0.  0.  0.  0.  0.5 0.  0.  0.  0.  0.  0.  0.  0. ]\n",
      " [0.  0.  0.  0.  0.  0.  0.5 0.  0.  0.  0.  0.  0.  0.  0.  0. ]\n",
      " [0.  0.  0.  0.  0.  0.  0.  0.  0.  0.5 0.  0.  0.  0.  0.  0. ]\n",
      " [0.  0.  0.  0.  0.  0.  0.  0.  0.5 0.  0.  0.  0.  0.  0.  0. ]\n",
      " [0.  0.  0.  0.  0.  0.  0.  0.  0.  0.  0.  0.5 0.  0.  0.  0. ]\n",
      " [0.  0.  0.  0.  0.  0.  0.  0.  0.  0.  0.5 0.  0.  0.  0.  0. ]\n",
      " [0.  0.  0.  0.  0.  0.  0.  0.  0.  0.  0.  0.  0.  0.5 0.  0. ]\n",
      " [0.  0.  0.  0.  0.  0.  0.  0.  0.  0.  0.  0.  0.5 0.  0.  0. ]\n",
      " [0.  0.  0.  0.  0.  0.  0.  0.  0.  0.  0.  0.  0.  0.  0.  0.5]\n",
      " [0.  0.  0.  0.  0.  0.  0.  0.  0.  0.  0.  0.  0.  0.  0.5 0. ]]\n",
      "[[0.+0.j  0.-0.5j 0.+0.j  0.+0.j  0.+0.j  0.+0.j  0.+0.j  0.+0.j  0.+0.j  0.+0.j  0.+0.j  0.+0.j  0.+0.j  0.+0.j  0.+0.j  0.+0.j ]\n",
      " [0.+0.5j 0.+0.j  0.+0.j  0.+0.j  0.+0.j  0.+0.j  0.+0.j  0.+0.j  0.+0.j  0.+0.j  0.+0.j  0.+0.j  0.+0.j  0.+0.j  0.+0.j  0.+0.j ]\n",
      " [0.+0.j  0.+0.j  0.+0.j  0.-0.5j 0.+0.j  0.+0.j  0.+0.j  0.+0.j  0.+0.j  0.+0.j  0.+0.j  0.+0.j  0.+0.j  0.+0.j  0.+0.j  0.+0.j ]\n",
      " [0.+0.j  0.+0.j  0.+0.5j 0.+0.j  0.+0.j  0.+0.j  0.+0.j  0.+0.j  0.+0.j  0.+0.j  0.+0.j  0.+0.j  0.+0.j  0.+0.j  0.+0.j  0.+0.j ]\n",
      " [0.+0.j  0.+0.j  0.+0.j  0.+0.j  0.+0.j  0.-0.5j 0.+0.j  0.+0.j  0.+0.j  0.+0.j  0.+0.j  0.+0.j  0.+0.j  0.+0.j  0.+0.j  0.+0.j ]\n",
      " [0.+0.j  0.+0.j  0.+0.j  0.+0.j  0.+0.5j 0.+0.j  0.+0.j  0.+0.j  0.+0.j  0.+0.j  0.+0.j  0.+0.j  0.+0.j  0.+0.j  0.+0.j  0.+0.j ]\n",
      " [0.+0.j  0.+0.j  0.+0.j  0.+0.j  0.+0.j  0.+0.j  0.+0.j  0.-0.5j 0.+0.j  0.+0.j  0.+0.j  0.+0.j  0.+0.j  0.+0.j  0.+0.j  0.+0.j ]\n",
      " [0.+0.j  0.+0.j  0.+0.j  0.+0.j  0.+0.j  0.+0.j  0.+0.5j 0.+0.j  0.+0.j  0.+0.j  0.+0.j  0.+0.j  0.+0.j  0.+0.j  0.+0.j  0.+0.j ]\n",
      " [0.+0.j  0.+0.j  0.+0.j  0.+0.j  0.+0.j  0.+0.j  0.+0.j  0.+0.j  0.+0.j  0.-0.5j 0.+0.j  0.+0.j  0.+0.j  0.+0.j  0.+0.j  0.+0.j ]\n",
      " [0.+0.j  0.+0.j  0.+0.j  0.+0.j  0.+0.j  0.+0.j  0.+0.j  0.+0.j  0.+0.5j 0.+0.j  0.+0.j  0.+0.j  0.+0.j  0.+0.j  0.+0.j  0.+0.j ]\n",
      " [0.+0.j  0.+0.j  0.+0.j  0.+0.j  0.+0.j  0.+0.j  0.+0.j  0.+0.j  0.+0.j  0.+0.j  0.+0.j  0.-0.5j 0.+0.j  0.+0.j  0.+0.j  0.+0.j ]\n",
      " [0.+0.j  0.+0.j  0.+0.j  0.+0.j  0.+0.j  0.+0.j  0.+0.j  0.+0.j  0.+0.j  0.+0.j  0.+0.5j 0.+0.j  0.+0.j  0.+0.j  0.+0.j  0.+0.j ]\n",
      " [0.+0.j  0.+0.j  0.+0.j  0.+0.j  0.+0.j  0.+0.j  0.+0.j  0.+0.j  0.+0.j  0.+0.j  0.+0.j  0.+0.j  0.+0.j  0.-0.5j 0.+0.j  0.+0.j ]\n",
      " [0.+0.j  0.+0.j  0.+0.j  0.+0.j  0.+0.j  0.+0.j  0.+0.j  0.+0.j  0.+0.j  0.+0.j  0.+0.j  0.+0.j  0.+0.5j 0.+0.j  0.+0.j  0.+0.j ]\n",
      " [0.+0.j  0.+0.j  0.+0.j  0.+0.j  0.+0.j  0.+0.j  0.+0.j  0.+0.j  0.+0.j  0.+0.j  0.+0.j  0.+0.j  0.+0.j  0.+0.j  0.+0.j  0.-0.5j]\n",
      " [0.+0.j  0.+0.j  0.+0.j  0.+0.j  0.+0.j  0.+0.j  0.+0.j  0.+0.j  0.+0.j  0.+0.j  0.+0.j  0.+0.j  0.+0.j  0.+0.j  0.+0.5j 0.+0.j ]]\n",
      "[[ 0.5  0.   0.   0.   0.   0.   0.   0.   0.   0.   0.   0.   0.   0.   0.   0. ]\n",
      " [ 0.  -0.5  0.  -0.   0.  -0.   0.  -0.   0.  -0.   0.  -0.   0.  -0.   0.  -0. ]\n",
      " [ 0.   0.   0.5  0.   0.   0.   0.   0.   0.   0.   0.   0.   0.   0.   0.   0. ]\n",
      " [ 0.  -0.   0.  -0.5  0.  -0.   0.  -0.   0.  -0.   0.  -0.   0.  -0.   0.  -0. ]\n",
      " [ 0.   0.   0.   0.   0.5  0.   0.   0.   0.   0.   0.   0.   0.   0.   0.   0. ]\n",
      " [ 0.  -0.   0.  -0.   0.  -0.5  0.  -0.   0.  -0.   0.  -0.   0.  -0.   0.  -0. ]\n",
      " [ 0.   0.   0.   0.   0.   0.   0.5  0.   0.   0.   0.   0.   0.   0.   0.   0. ]\n",
      " [ 0.  -0.   0.  -0.   0.  -0.   0.  -0.5  0.  -0.   0.  -0.   0.  -0.   0.  -0. ]\n",
      " [ 0.   0.   0.   0.   0.   0.   0.   0.   0.5  0.   0.   0.   0.   0.   0.   0. ]\n",
      " [ 0.  -0.   0.  -0.   0.  -0.   0.  -0.   0.  -0.5  0.  -0.   0.  -0.   0.  -0. ]\n",
      " [ 0.   0.   0.   0.   0.   0.   0.   0.   0.   0.   0.5  0.   0.   0.   0.   0. ]\n",
      " [ 0.  -0.   0.  -0.   0.  -0.   0.  -0.   0.  -0.   0.  -0.5  0.  -0.   0.  -0. ]\n",
      " [ 0.   0.   0.   0.   0.   0.   0.   0.   0.   0.   0.   0.   0.5  0.   0.   0. ]\n",
      " [ 0.  -0.   0.  -0.   0.  -0.   0.  -0.   0.  -0.   0.  -0.   0.  -0.5  0.  -0. ]\n",
      " [ 0.   0.   0.   0.   0.   0.   0.   0.   0.   0.   0.   0.   0.   0.   0.5  0. ]\n",
      " [ 0.  -0.   0.  -0.   0.  -0.   0.  -0.   0.  -0.   0.  -0.   0.  -0.   0.  -0.5]]\n"
     ]
    }
   ],
   "source": [
    "L = 4\n",
    "Hamiltonain(L,Sx,Sy,Sz,I,j,h)\n",
    "with np.printoptions(linewidth = 150):\n",
    "    print(SxList[3])\n",
    "    print(SyList[3])\n",
    "    print(SzList[3])"
   ]
  },
  {
   "cell_type": "code",
   "execution_count": 5,
   "metadata": {},
   "outputs": [
    {
     "data": {
      "image/png": "[encoded data removed]",
      "text/plain": [
       "<Figure size 432x288 with 1 Axes>"
      ]
     },
     "metadata": {
      "needs_background": "light"
     },
     "output_type": "display_data"
    }
   ],
   "source": [
    "Llist = list(range(4,10,2))\n",
    "hlist = np.linspace(0,1,11)\n",
    "E = np.zeros((len(Llist),len(hlist)))\n",
    "\n",
    "for l in range(len(Llist)):\n",
    "    L = Llist[l]\n",
    "    Sxtot = np.zeros((2**L,2**L))\n",
    "    Sytot = np.zeros((2**L,2**L))\n",
    "    Sztot = np.zeros((2**L,2**L))\n",
    "    for h in range(len(hlist)):\n",
    "        Hamiltonain(L,Sx,Sy,Sz,I,1,hlist[h])\n",
    "        e, v = la.eigh(Htot)\n",
    "        E[l,h] = e[0]/L\n",
    "    plt.plot( hlist, E[l,:] )\n",
    "\n",
    "\n"
   ]
  },
  {
   "cell_type": "code",
   "execution_count": 25,
   "metadata": {},
   "outputs": [
    {
     "name": "stdout",
     "output_type": "stream",
     "text": [
      "0j\n"
     ]
    }
   ],
   "source": [
    "Hamiltonain(4,Sx,Sy,Sz,I,1,0.5)\n",
    "e,v = la.eigh(Htot)\n",
    "print(v[:,0] @ Sytot @ v[:,0])\n"
   ]
  },
  {
   "cell_type": "code",
   "execution_count": 12,
   "metadata": {},
   "outputs": [
    {
     "data": {
      "image/png": "[encoded data removed]",
      "text/plain": [
       "<Figure size 432x288 with 1 Axes>"
      ]
     },
     "metadata": {
      "needs_background": "light"
     },
     "output_type": "display_data"
    }
   ],
   "source": [
    "Llist = list(range(4,10,2))\n",
    "hlist = np.linspace(0,1,11)\n",
    "SxE = np.zeros((len(Llist),len(hlist)))\n",
    "\n",
    "for l in range(len(Llist)):\n",
    "    L = Llist[l]\n",
    "    for h in range(len(hlist)):\n",
    "        Hamiltonain(L,Sx,Sy,Sz,I,1,hlist[h])\n",
    "        e, v = la.eigh(Htot)\n",
    "        SxE[l,h] = v[:,0] @ SxList[0]  @ v[:,0]\n",
    "    plt.plot( hlist, SxE[l,:] )\n",
    "    plt.ylim(-0.1,0.2)\n"
   ]
  },
  {
   "cell_type": "code",
   "execution_count": 33,
   "metadata": {},
   "outputs": [
    {
     "data": {
      "image/png": "[encoded data removed]",
      "text/plain": [
       "<Figure size 432x288 with 1 Axes>"
      ]
     },
     "metadata": {
      "needs_background": "light"
     },
     "output_type": "display_data"
    }
   ],
   "source": [
    "Llist = list(range(4,10,2))\n",
    "hlist = np.linspace(0.2,1,11)\n",
    "SzE = np.zeros((len(Llist),len(hlist)))\n",
    "\n",
    "for l in range(len(Llist)):\n",
    "    L = Llist[l]\n",
    "    for h in range(len(hlist)):\n",
    "        Hamiltonain(L,Sx,Sy,Sz,I,1,hlist[h])\n",
    "        e, v = la.eigh(Htot)\n",
    "        SzE[l,h] = v[:,0] @ SzList[0] @ v[:,0]\n",
    "    plt.plot( hlist, SzE[l,:] )"
   ]
  },
  {
   "cell_type": "code",
   "execution_count": 20,
   "metadata": {},
   "outputs": [
    {
     "name": "stdout",
     "output_type": "stream",
     "text": [
      "-1.5051374446884687\n",
      "[-5.54696126e-01 -6.47248914e-01 -4.14152098e-01 -1.44070444e-15\n",
      "  1.88595639e-17  4.10504796e-17 -2.98721565e-17  7.97579289e-18\n",
      "  1.20320702e-17 -2.17648971e-17  2.84725908e-01 -2.31787132e-16\n",
      "  8.21045001e-19  1.15537281e-01 -5.98875092e-17 -8.62634605e-02]\n",
      "[0.83489391 0.28187232 0.28187232 0.22472817 0.28187232 0.12983836\n",
      " 0.22472817 0.28187232 0.28187232 0.22472817 0.12983836 0.28187232\n",
      " 0.22472817 0.28187232 0.28187232 0.83489391]\n",
      "[0.83489391 0.28187232 0.28187232 0.22472817 0.28187232 0.12983836\n",
      " 0.22472817 0.28187232 0.28187232 0.22472817 0.12983836 0.28187232\n",
      " 0.22472817 0.28187232 0.28187232 0.83489391]\n"
     ]
    }
   ],
   "source": [
    "Hamiltonain(4,Sx,Sy,Sz,I,1.1,0.6)\n",
    "e, v = la.eigh(Htot)\n",
    "#print(e)\n",
    "#print(v)\n",
    "print(e[0])\n",
    "print(v[0])\n",
    "print(e[0]*v[:,0])\n",
    "print(Htot@v[:,0])"
   ]
  },
  {
   "cell_type": "code",
   "execution_count": 28,
   "metadata": {},
   "outputs": [
    {
     "name": "stdout",
     "output_type": "stream",
     "text": [
      "[-1.50513744e+00 -1.36394103e+00 -6.20130045e-01 -6.00000000e-01\n",
      " -6.00000000e-01 -2.63941030e-01 -1.38825433e-16 -6.07778578e-17\n",
      "  2.68137861e-17  8.98252272e-17  2.63941030e-01  6.00000000e-01\n",
      "  6.00000000e-01  6.20130045e-01  1.36394103e+00  1.50513744e+00]\n"
     ]
    }
   ],
   "source": [
    "Sz1 = np.kron(Sz,np.kron(I,np.kron(I,I)))\n",
    "Sz2 = np.kron(I,np.kron(Sz,np.kron(I,I)))\n",
    "Sz3 = np.kron(I,np.kron(I,np.kron(Sz,I)))\n",
    "Sz4 = np.kron(I,np.kron(I,np.kron(I,Sz)))\n",
    "\n",
    "Sx1 = np.kron(Sx,np.kron(I,np.kron(I,I)))\n",
    "Sx2 = np.kron(I,np.kron(Sx,np.kron(I,I)))\n",
    "Sx3 = np.kron(I,np.kron(I,np.kron(Sx,I)))\n",
    "Sx4 = np.kron(I,np.kron(I,np.kron(I,Sx)))\n",
    "\n",
    "j = 1.1\n",
    "h = 0.6\n",
    "\n",
    "H1 = -(Sz1 @ Sz2)\n",
    "H2 = -(Sz2 @ Sz3)\n",
    "H3 = -(Sz3 @ Sz4)\n",
    "H4 = -(Sz4 @ Sz1)\n",
    "H5 = -0.5*(Sx1+Sx2+Sx3+Sx4)\n",
    "HH = 0\n",
    "HH = j*(-(Sz1 @ Sz2) -(Sz2 @ Sz3) -(Sz3 @ Sz4) -(Sz4 @ Sz1)) - h*(Sx1+Sx2+Sx3+Sx4) \n",
    "E,V = la.eigh(HH)\n",
    "print(E)"
   ]
  }
 ],
 "metadata": {
  "interpreter": {
   "hash": "224713fa5df5479744c4ffa78a24289bd058189636cbe307ab5ab559d78c6ae6"
  },
  "kernelspec": {
   "display_name": "Python 3.8.8 ('base': conda)",
   "language": "python",
   "name": "python3"
  },
  "language_info": {
   "codemirror_mode": {
    "name": "ipython",
    "version": 3
   },
   "file_extension": ".py",
   "mimetype": "text/x-python",
   "name": "python",
   "nbconvert_exporter": "python",
   "pygments_lexer": "ipython3",
   "version": "3.8.8"
  },
  "orig_nbformat": 4
 },
 "nbformat": 4,
 "nbformat_minor": 2
}
